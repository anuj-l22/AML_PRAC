{
  "nbformat": 4,
  "nbformat_minor": 0,
  "metadata": {
    "colab": {
      "provenance": [],
      "authorship_tag": "ABX9TyPAx4976O7BQH0rp3fOi0xR",
      "include_colab_link": true
    },
    "kernelspec": {
      "name": "python3",
      "display_name": "Python 3"
    },
    "language_info": {
      "name": "python"
    }
  },
  "cells": [
    {
      "cell_type": "markdown",
      "metadata": {
        "id": "view-in-github",
        "colab_type": "text"
      },
      "source": [
        "<a href=\"https://colab.research.google.com/github/anuj-l22/AML_PRAC/blob/main/1)Python_Basics.ipynb\" target=\"_parent\"><img src=\"https://colab.research.google.com/assets/colab-badge.svg\" alt=\"Open In Colab\"/></a>"
      ]
    },
    {
      "cell_type": "code",
      "execution_count": 1,
      "metadata": {
        "colab": {
          "base_uri": "https://localhost:8080/"
        },
        "id": "Butj36SlP0GO",
        "outputId": "bd09bca5-7d31-4f12-c2c7-034113958930"
      },
      "outputs": [
        {
          "output_type": "stream",
          "name": "stdout",
          "text": [
            "['False', 'None', 'True', 'and', 'as', 'assert', 'async', 'await', 'break', 'class', 'continue', 'def', 'del', 'elif', 'else', 'except', 'finally', 'for', 'from', 'global', 'if', 'import', 'in', 'is', 'lambda', 'nonlocal', 'not', 'or', 'pass', 'raise', 'return', 'try', 'while', 'with', 'yield']\n",
            "35\n"
          ]
        }
      ],
      "source": [
        "import keyword\n",
        "print(keyword.kwlist)\n",
        "print(len(keyword.kwlist))"
      ]
    },
    {
      "cell_type": "code",
      "source": [
        "# Invalid variable name throws error\n",
        "# 1xyz = 10\n",
        "# True  = 5"
      ],
      "metadata": {
        "id": "pRmpnM7WQICc"
      },
      "execution_count": 4,
      "outputs": []
    },
    {
      "cell_type": "code",
      "source": [],
      "metadata": {
        "id": "tofenTMOQkf9"
      },
      "execution_count": null,
      "outputs": []
    },
    {
      "cell_type": "code",
      "source": [
        "#ARITHMATIC OPS\n",
        "a,b=5,10\n",
        "print(a+b)\n",
        "print(a-b)\n",
        "print(a*b)\n",
        "print(a/b)\n",
        "print(a%b)\n",
        "print(a//b)\n",
        "print(a**b)\n",
        "#COMPARISION OPS\n",
        "print(a<b)\n",
        "print(a>b)\n",
        "print(a<=b)\n",
        "print(a>=b)\n",
        "print(a==b)\n",
        "print(a!=b)\n",
        "#LOGICAL OPS\n",
        "a,b=True,False\n",
        "print(a and b)\n",
        "print(a or b)\n",
        "print(not b)\n",
        "#BITWISE OPS\n",
        "a,b=10,4\n",
        "print(a&b)\n",
        "print(a|b)\n",
        "print(~a)#not\n",
        "print(a^b)#XOr\n",
        "print(a>>1)\n",
        "print(a<<1)\n",
        "#ASSIGNMENT OPS\n",
        "#print(a+=,-=,/=,%=,//=,**=)\n",
        "#IDENTITY OPS\n",
        "# is, is not; it is used to check whether two variables are located on same part of memory\n",
        "a=5\n",
        "b=5\n",
        "print(a is b)\n",
        "l1=[1,2,3]\n",
        "l2=[1,2,3]\n",
        "print( l1 is l2)\n",
        "# Does not work for complex data types but not strings\n",
        "#MEMBERSHIP OPS\n",
        "# in and not in is used to verify whether value is found in iterable\n",
        "# In dictionaries it is applicable only on KEY VALUES"
      ],
      "metadata": {
        "colab": {
          "base_uri": "https://localhost:8080/"
        },
        "id": "Tbz2QAewRC6f",
        "outputId": "49418716-2dfb-46d8-efb4-10d82cefb22e"
      },
      "execution_count": 10,
      "outputs": [
        {
          "output_type": "stream",
          "name": "stdout",
          "text": [
            "15\n",
            "-5\n",
            "50\n",
            "0.5\n",
            "5\n",
            "0\n",
            "9765625\n",
            "True\n",
            "False\n",
            "True\n",
            "False\n",
            "False\n",
            "True\n",
            "False\n",
            "True\n",
            "True\n",
            "0\n",
            "14\n",
            "-11\n",
            "14\n",
            "5\n",
            "20\n",
            "True\n",
            "False\n"
          ]
        }
      ]
    },
    {
      "cell_type": "code",
      "source": [
        "#CONTROL FLOW STATEMENTS\n",
        "a=10\n",
        "if a>10:\n",
        "  print(\"Condition is true\")\n",
        "print('Always print')\n",
        "if a%2==0:\n",
        "  print(\"Even no\")\n",
        "elif a%2!=0:\n",
        "  print(\"Odd no\")\n",
        "else:\n",
        "  print(\"Not possible\")\n",
        "# IT CAN ALSO BE NESTED\n",
        "a,b,c=10,50,15\n",
        "if (a>=b) and (a>=c):\n",
        "  largest=a\n",
        "elif (b>=a) and (b>=c):\n",
        "  largest=b\n",
        "else:\n",
        "  largest=c\n",
        "print(largest)"
      ],
      "metadata": {
        "colab": {
          "base_uri": "https://localhost:8080/"
        },
        "id": "ezA3QsYHR6Ma",
        "outputId": "41234ba0-8738-4546-d083-ffb8a0bd1fc5"
      },
      "execution_count": 13,
      "outputs": [
        {
          "output_type": "stream",
          "name": "stdout",
          "text": [
            "Always print\n",
            "Even no\n",
            "50\n"
          ]
        }
      ]
    },
    {
      "cell_type": "code",
      "source": [
        "#Examples of WHILE\n",
        "l1=[1,2,3,4,5]\n",
        "pd=1\n",
        "s=0\n",
        "while s<len(l1):\n",
        "  pd*=l1[s]\n",
        "  s+=1\n",
        "print(\"product is:\",pd)\n",
        "# WHILE can be paired with ELSE\n",
        "n=int(input(\"Enter num\"))\n",
        "d=False\n",
        "i=2\n",
        "while i<n:\n",
        "  if n%i==0:\n",
        "    d=True\n",
        "  i+=1;\n",
        "if d:\n",
        "  print(\"Not prime\")\n",
        "else:\n",
        "  print(\"Prime\")"
      ],
      "metadata": {
        "colab": {
          "base_uri": "https://localhost:8080/"
        },
        "id": "8LplECcUV9P7",
        "outputId": "37f03e88-d2a2-413b-f4bf-ae6b3a2a2ba8"
      },
      "execution_count": 20,
      "outputs": [
        {
          "output_type": "stream",
          "name": "stdout",
          "text": [
            "product is: 120\n",
            "Enter num 6\n",
            "Not prime\n"
          ]
        }
      ]
    },
    {
      "cell_type": "code",
      "source": [
        "# FOR loop\n",
        "l=[1,2,3,4,5]\n",
        "p=1\n",
        "for i in l:\n",
        "  p=p*i\n",
        "print(p)\n",
        "# It can also be used with else\n",
        "n=[10,20,30]\n",
        "for item in n:\n",
        "  print(item)\n",
        "else:\n",
        "  print(\"None left\")\n",
        "# Eg for prime numbers\n",
        "i1=10\n",
        "i2=70\n",
        "# 3rd parameter is increment which is by default set to 1\n",
        "for n in range(i1,i2+1):\n",
        "  if n>1:\n",
        "    d=False\n",
        "    for i in range(2,n):\n",
        "      if n%i==0:\n",
        "        d=True\n",
        "    if not d:\n",
        "      print(n)\n",
        "\n"
      ],
      "metadata": {
        "colab": {
          "base_uri": "https://localhost:8080/"
        },
        "id": "ltoqGQk2a5CW",
        "outputId": "afb406d6-ceda-4ad1-e4bd-f31c68f08c70"
      },
      "execution_count": 17,
      "outputs": [
        {
          "output_type": "stream",
          "name": "stdout",
          "text": [
            "120\n",
            "10\n",
            "20\n",
            "30\n",
            "None left\n",
            "11\n",
            "13\n",
            "17\n",
            "19\n",
            "23\n",
            "29\n",
            "31\n",
            "37\n",
            "41\n",
            "43\n",
            "47\n",
            "53\n",
            "59\n",
            "61\n",
            "67\n"
          ]
        }
      ]
    },
    {
      "cell_type": "code",
      "source": [
        "# BREAK(exit current loop) and CONTINUE(skip to next iteration of loop) statements\n",
        "\n",
        "n=int(input(\"Enter num\"))\n",
        "d=False\n",
        "i=2\n",
        "while i<n:\n",
        "  if n%i==0:\n",
        "    d=True\n",
        "    break\n",
        "  i+=1;\n",
        "if d:\n",
        "  print(\"Not prime\")\n",
        "else:\n",
        "  print(\"Prime\")\n",
        "\n",
        "n=[1,2,5,7,8]\n",
        "for i in n:\n",
        "  if i%2==0:\n",
        "    continue\n",
        "  print(i)\n",
        "else:\n",
        "  print(\"E\")"
      ],
      "metadata": {
        "colab": {
          "base_uri": "https://localhost:8080/"
        },
        "id": "bUHWkM7jfbfB",
        "outputId": "699e6192-0871-4aab-a400-2f2948f70161"
      },
      "execution_count": 21,
      "outputs": [
        {
          "output_type": "stream",
          "name": "stdout",
          "text": [
            "Enter num 5\n",
            "Prime\n",
            "1\n",
            "5\n",
            "7\n",
            "E\n"
          ]
        }
      ]
    },
    {
      "cell_type": "code",
      "source": [],
      "metadata": {
        "id": "XNLaRKHqibNp"
      },
      "execution_count": null,
      "outputs": []
    }
  ]
}